{
 "cells": [
  {
   "cell_type": "markdown",
   "id": "34e0fee7-f1cb-41d5-9245-3b3c725d0c50",
   "metadata": {},
   "source": [
    "## Prepare data and libraries"
   ]
  },
  {
   "cell_type": "code",
   "execution_count": 1,
   "id": "433d743d-8906-45fe-8812-7ab2214e6932",
   "metadata": {
    "scrolled": true
   },
   "outputs": [
    {
     "name": "stderr",
     "output_type": "stream",
     "text": [
      "2024-05-31 00:15:45.193641: I tensorflow/core/util/port.cc:113] oneDNN custom operations are on. You may see slightly different numerical results due to floating-point round-off errors from different computation orders. To turn them off, set the environment variable `TF_ENABLE_ONEDNN_OPTS=0`.\n",
      "2024-05-31 00:15:45.195868: I external/local_tsl/tsl/cuda/cudart_stub.cc:32] Could not find cuda drivers on your machine, GPU will not be used.\n",
      "2024-05-31 00:15:45.314661: I external/local_tsl/tsl/cuda/cudart_stub.cc:32] Could not find cuda drivers on your machine, GPU will not be used.\n",
      "2024-05-31 00:15:45.759914: I tensorflow/core/platform/cpu_feature_guard.cc:210] This TensorFlow binary is optimized to use available CPU instructions in performance-critical operations.\n",
      "To enable the following instructions: AVX2 AVX512F AVX512_VNNI FMA, in other operations, rebuild TensorFlow with the appropriate compiler flags.\n",
      "2024-05-31 00:15:46.678058: W tensorflow/compiler/tf2tensorrt/utils/py_utils.cc:38] TF-TRT Warning: Could not find TensorRT\n"
     ]
    }
   ],
   "source": [
    "import numpy as np\n",
    "import pandas as pd\n",
    "import keras\n",
    "import keras_nlp\n",
    "from sklearn.model_selection import train_test_split\n",
    "\n",
    "from keras import Input, Model\n",
    "from keras.layers import Conv1D, MaxPooling1D, GlobalMaxPooling1D, GlobalAveragePooling1D, Dense, Dropout, LeakyReLU, UnitNormalization, Reshape\n",
    "from keras.optimizers import RMSprop\n",
    "from keras.losses import CategoricalCrossentropy\n",
    "from keras.metrics import F1Score"
   ]
  },
  {
   "cell_type": "code",
   "execution_count": 2,
   "id": "7e3730c6-1d62-4419-9ffd-bd3455fd611c",
   "metadata": {},
   "outputs": [
    {
     "name": "stderr",
     "output_type": "stream",
     "text": [
      "Downloading from https://www.kaggle.com/api/v1/models/keras/roberta/keras/roberta_base_en/2/download/preprocessor.json...\n"
     ]
    }
   ],
   "source": [
    "preprocessor = keras_nlp.models.RobertaPreprocessor.from_preset(\"roberta_base_en\")\n",
    "backbone = keras_nlp.models.RobertaBackbone.from_preset(\"roberta_base_en\")\n",
    "backbone.trainable = False\n",
    "\n",
    "inputs = Input(shape=(1,), dtype=\"string\", name=\"sentence\")\n",
    "preprocess = preprocessor(inputs)\n",
    "embed = backbone(preprocess)\n",
    "encoder = Model(inputs=inputs, outputs=embed)"
   ]
  },
  {
   "cell_type": "code",
   "execution_count": 3,
   "id": "3fdf383f-66f6-4e6e-8f44-9ef9a86b8ede",
   "metadata": {},
   "outputs": [],
   "source": [
    "cnn = keras.saving.load_model('roberta_cnn.keras')"
   ]
  },
  {
   "cell_type": "code",
   "execution_count": 4,
   "id": "3a48d383-a46b-405f-bab1-722788386650",
   "metadata": {},
   "outputs": [],
   "source": [
    "embed_cnn = cnn(embed)"
   ]
  },
  {
   "cell_type": "code",
   "execution_count": 5,
   "id": "9e446a30-aad0-4067-b5bf-97f3fd702760",
   "metadata": {},
   "outputs": [],
   "source": [
    "full_model = Model(inputs=inputs, outputs=embed_cnn)"
   ]
  },
  {
   "cell_type": "markdown",
   "id": "adb18ac9-7dfc-476b-93df-6482c9bb2562",
   "metadata": {},
   "source": [
    "# Generate Bloom's Taxonomy levels"
   ]
  },
  {
   "cell_type": "markdown",
   "id": "b3064842-5a73-4d5d-83a4-3366ca7c321c",
   "metadata": {},
   "source": [
    "## STA interviews"
   ]
  },
  {
   "cell_type": "code",
   "execution_count": 6,
   "id": "07198da0-a094-4336-9fc8-a1581c1b10c5",
   "metadata": {},
   "outputs": [
    {
     "data": {
      "text/plain": [
       "array(['Analysis', 'Application', 'Comprehension', 'Evaluation',\n",
       "       'Knowledge', 'Synthesis'], dtype='<U13')"
      ]
     },
     "execution_count": 6,
     "metadata": {},
     "output_type": "execute_result"
    }
   ],
   "source": [
    "levels = [\"Knowledge\", \"Comprehension\", \"Application\", \"Analysis\", \"Synthesis\", \"Evaluation\"]\n",
    "np.sort(levels)"
   ]
  },
  {
   "cell_type": "code",
   "execution_count": 7,
   "id": "48324783-4502-41b4-bec1-306ecd9df87d",
   "metadata": {},
   "outputs": [],
   "source": [
    "def interview_bloom(number):\n",
    "    dataset = pd.read_csv(f'e4/int{number}_new.csv', sep=',')\n",
    "    predictions = full_model.predict(dataset.Question)\n",
    "    bloom_indices = np.argmax(predictions, axis=1)\n",
    "    dataset['BT_Level'] = np.sort(levels)[bloom_indices]\n",
    "    dataset.to_csv(f'e4/int{number}_bloom.csv', sep=',')"
   ]
  },
  {
   "cell_type": "code",
   "execution_count": 8,
   "id": "037141cc-80f6-4d75-b24c-b0ea43edc990",
   "metadata": {},
   "outputs": [
    {
     "name": "stderr",
     "output_type": "stream",
     "text": [
      "2024-05-31 00:16:13.172830: W tensorflow/core/grappler/optimizers/loop_optimizer.cc:933] Skipping loop optimization for Merge node with control input: functional_3_1/roberta_preprocessor_1/roberta_tokenizer_1/RaggedFromUniformRowLength/RowPartitionFromUniformRowLength/assert_greater_equal/Assert/AssertGuard/branch_executed/_107\n",
      "2024-05-31 00:16:14.158467: E tensorflow/core/util/util.cc:131] oneDNN supports DT_INT64 only on platforms with AVX-512. Falling back to the default Eigen-based implementation if present.\n"
     ]
    },
    {
     "name": "stdout",
     "output_type": "stream",
     "text": [
      "\u001b[1m1/1\u001b[0m \u001b[32m━━━━━━━━━━━━━━━━━━━━\u001b[0m\u001b[37m\u001b[0m \u001b[1m11s\u001b[0m 11s/step\n",
      "\u001b[1m1/1\u001b[0m \u001b[32m━━━━━━━━━━━━━━━━━━━━\u001b[0m\u001b[37m\u001b[0m \u001b[1m10s\u001b[0m 10s/step\n",
      "\u001b[1m1/1\u001b[0m \u001b[32m━━━━━━━━━━━━━━━━━━━━\u001b[0m\u001b[37m\u001b[0m \u001b[1m5s\u001b[0m 5s/step\n",
      "\u001b[1m1/1\u001b[0m \u001b[32m━━━━━━━━━━━━━━━━━━━━\u001b[0m\u001b[37m\u001b[0m \u001b[1m6s\u001b[0m 6s/step\n",
      "\u001b[1m1/1\u001b[0m \u001b[32m━━━━━━━━━━━━━━━━━━━━\u001b[0m\u001b[37m\u001b[0m \u001b[1m2s\u001b[0m 2s/step\n",
      "\u001b[1m2/2\u001b[0m \u001b[32m━━━━━━━━━━━━━━━━━━━━\u001b[0m\u001b[37m\u001b[0m \u001b[1m16s\u001b[0m 3s/step\n",
      "\u001b[1m1/1\u001b[0m \u001b[32m━━━━━━━━━━━━━━━━━━━━\u001b[0m\u001b[37m\u001b[0m \u001b[1m7s\u001b[0m 7s/step\n",
      "\u001b[1m1/1\u001b[0m \u001b[32m━━━━━━━━━━━━━━━━━━━━\u001b[0m\u001b[37m\u001b[0m \u001b[1m2s\u001b[0m 2s/step\n"
     ]
    }
   ],
   "source": [
    "for i in range(8):\n",
    "    interview_bloom(i+1)"
   ]
  },
  {
   "cell_type": "markdown",
   "id": "1466178c-80ae-40e9-b089-b37a34f1c036",
   "metadata": {},
   "source": [
    "## R. Tatman's Question-Answer Dataset"
   ]
  },
  {
   "cell_type": "code",
   "execution_count": 9,
   "id": "f527e070-c39e-4fab-8a63-c59f00d06a94",
   "metadata": {},
   "outputs": [
    {
     "data": {
      "text/html": [
       "<div>\n",
       "<style scoped>\n",
       "    .dataframe tbody tr th:only-of-type {\n",
       "        vertical-align: middle;\n",
       "    }\n",
       "\n",
       "    .dataframe tbody tr th {\n",
       "        vertical-align: top;\n",
       "    }\n",
       "\n",
       "    .dataframe thead th {\n",
       "        text-align: right;\n",
       "    }\n",
       "</style>\n",
       "<table border=\"1\" class=\"dataframe\">\n",
       "  <thead>\n",
       "    <tr style=\"text-align: right;\">\n",
       "      <th></th>\n",
       "      <th>ArticleTitle</th>\n",
       "      <th>Question</th>\n",
       "      <th>Answer</th>\n",
       "      <th>DifficultyFromQuestioner</th>\n",
       "      <th>DifficultyFromAnswerer</th>\n",
       "      <th>ArticleFile</th>\n",
       "    </tr>\n",
       "  </thead>\n",
       "  <tbody>\n",
       "    <tr>\n",
       "      <th>0</th>\n",
       "      <td>Abraham_Lincoln</td>\n",
       "      <td>was abraham lincoln the sixteenth president of...</td>\n",
       "      <td>yes</td>\n",
       "      <td>easy</td>\n",
       "      <td>easy</td>\n",
       "      <td>S08_set3_a4</td>\n",
       "    </tr>\n",
       "    <tr>\n",
       "      <th>1</th>\n",
       "      <td>Abraham_Lincoln</td>\n",
       "      <td>was abraham lincoln the sixteenth president of...</td>\n",
       "      <td>yes.</td>\n",
       "      <td>easy</td>\n",
       "      <td>easy</td>\n",
       "      <td>S08_set3_a4</td>\n",
       "    </tr>\n",
       "    <tr>\n",
       "      <th>2</th>\n",
       "      <td>Abraham_Lincoln</td>\n",
       "      <td>did lincoln sign the national banking act of 1...</td>\n",
       "      <td>yes</td>\n",
       "      <td>easy</td>\n",
       "      <td>medium</td>\n",
       "      <td>S08_set3_a4</td>\n",
       "    </tr>\n",
       "    <tr>\n",
       "      <th>3</th>\n",
       "      <td>Abraham_Lincoln</td>\n",
       "      <td>did lincoln sign the national banking act of 1...</td>\n",
       "      <td>yes.</td>\n",
       "      <td>easy</td>\n",
       "      <td>easy</td>\n",
       "      <td>S08_set3_a4</td>\n",
       "    </tr>\n",
       "    <tr>\n",
       "      <th>4</th>\n",
       "      <td>Abraham_Lincoln</td>\n",
       "      <td>did his mother die of pneumonia ?</td>\n",
       "      <td>no</td>\n",
       "      <td>easy</td>\n",
       "      <td>medium</td>\n",
       "      <td>S08_set3_a4</td>\n",
       "    </tr>\n",
       "    <tr>\n",
       "      <th>...</th>\n",
       "      <td>...</td>\n",
       "      <td>...</td>\n",
       "      <td>...</td>\n",
       "      <td>...</td>\n",
       "      <td>...</td>\n",
       "      <td>...</td>\n",
       "    </tr>\n",
       "    <tr>\n",
       "      <th>3353</th>\n",
       "      <td>Zebra</td>\n",
       "      <td>what areas do the grevy 's zebras inhabit ?</td>\n",
       "      <td>semi-arid grasslands of ethiopia and northern ...</td>\n",
       "      <td>hard</td>\n",
       "      <td>hard</td>\n",
       "      <td>S10_set1_a9</td>\n",
       "    </tr>\n",
       "    <tr>\n",
       "      <th>3354</th>\n",
       "      <td>Zebra</td>\n",
       "      <td>which species of zebra is known as the common ...</td>\n",
       "      <td>plains zebra ( equus quagga , formerly equus b...</td>\n",
       "      <td>hard</td>\n",
       "      <td>medium</td>\n",
       "      <td>S10_set1_a9</td>\n",
       "    </tr>\n",
       "    <tr>\n",
       "      <th>3355</th>\n",
       "      <td>Zebra</td>\n",
       "      <td>which species of zebra is known as the common ...</td>\n",
       "      <td>plains zebra</td>\n",
       "      <td>hard</td>\n",
       "      <td>medium</td>\n",
       "      <td>S10_set1_a9</td>\n",
       "    </tr>\n",
       "    <tr>\n",
       "      <th>3356</th>\n",
       "      <td>Zebra</td>\n",
       "      <td>at what age can a zebra breed ?</td>\n",
       "      <td>five or six</td>\n",
       "      <td>hard</td>\n",
       "      <td>medium</td>\n",
       "      <td>S10_set1_a9</td>\n",
       "    </tr>\n",
       "    <tr>\n",
       "      <th>3357</th>\n",
       "      <td>Zebra</td>\n",
       "      <td>at what age can a zebra breed ?</td>\n",
       "      <td>5 or 6</td>\n",
       "      <td>hard</td>\n",
       "      <td>hard</td>\n",
       "      <td>S10_set1_a9</td>\n",
       "    </tr>\n",
       "  </tbody>\n",
       "</table>\n",
       "<p>3358 rows × 6 columns</p>\n",
       "</div>"
      ],
      "text/plain": [
       "         ArticleTitle                                           Question  \\\n",
       "0     Abraham_Lincoln  was abraham lincoln the sixteenth president of...   \n",
       "1     Abraham_Lincoln  was abraham lincoln the sixteenth president of...   \n",
       "2     Abraham_Lincoln  did lincoln sign the national banking act of 1...   \n",
       "3     Abraham_Lincoln  did lincoln sign the national banking act of 1...   \n",
       "4     Abraham_Lincoln                  did his mother die of pneumonia ?   \n",
       "...               ...                                                ...   \n",
       "3353            Zebra        what areas do the grevy 's zebras inhabit ?   \n",
       "3354            Zebra  which species of zebra is known as the common ...   \n",
       "3355            Zebra  which species of zebra is known as the common ...   \n",
       "3356            Zebra                    at what age can a zebra breed ?   \n",
       "3357            Zebra                    at what age can a zebra breed ?   \n",
       "\n",
       "                                                 Answer  \\\n",
       "0                                                   yes   \n",
       "1                                                  yes.   \n",
       "2                                                   yes   \n",
       "3                                                  yes.   \n",
       "4                                                    no   \n",
       "...                                                 ...   \n",
       "3353  semi-arid grasslands of ethiopia and northern ...   \n",
       "3354  plains zebra ( equus quagga , formerly equus b...   \n",
       "3355                                       plains zebra   \n",
       "3356                                        five or six   \n",
       "3357                                             5 or 6   \n",
       "\n",
       "     DifficultyFromQuestioner DifficultyFromAnswerer  ArticleFile  \n",
       "0                        easy                   easy  S08_set3_a4  \n",
       "1                        easy                   easy  S08_set3_a4  \n",
       "2                        easy                 medium  S08_set3_a4  \n",
       "3                        easy                   easy  S08_set3_a4  \n",
       "4                        easy                 medium  S08_set3_a4  \n",
       "...                       ...                    ...          ...  \n",
       "3353                     hard                   hard  S10_set1_a9  \n",
       "3354                     hard                 medium  S10_set1_a9  \n",
       "3355                     hard                 medium  S10_set1_a9  \n",
       "3356                     hard                 medium  S10_set1_a9  \n",
       "3357                     hard                   hard  S10_set1_a9  \n",
       "\n",
       "[3358 rows x 6 columns]"
      ]
     },
     "execution_count": 9,
     "metadata": {},
     "output_type": "execute_result"
    }
   ],
   "source": [
    "tatman = pd.read_csv('data/tatman/merged.tsv', sep='\\t')\n",
    "tatman"
   ]
  },
  {
   "cell_type": "code",
   "execution_count": 10,
   "id": "42182db5-dba4-452f-8030-aae29ab8712c",
   "metadata": {},
   "outputs": [
    {
     "name": "stderr",
     "output_type": "stream",
     "text": [
      "2024-05-05 00:04:42.223781: W tensorflow/core/grappler/optimizers/loop_optimizer.cc:933] Skipping loop optimization for Merge node with control input: functional_3_1/roberta_preprocessor_1/roberta_tokenizer_1/RaggedFromUniformRowLength/RowPartitionFromUniformRowLength/assert_greater_equal/Assert/AssertGuard/branch_executed/_107\n",
      "2024-05-05 00:04:43.269910: E tensorflow/core/util/util.cc:131] oneDNN supports DT_INT64 only on platforms with AVX-512. Falling back to the default Eigen-based implementation if present.\n"
     ]
    },
    {
     "name": "stdout",
     "output_type": "stream",
     "text": [
      "\u001b[1m105/105\u001b[0m \u001b[32m━━━━━━━━━━━━━━━━━━━━\u001b[0m\u001b[37m\u001b[0m \u001b[1m1481s\u001b[0m 14s/step\n"
     ]
    }
   ],
   "source": [
    "predictions_tatman = full_model.predict(tatman.Question)"
   ]
  },
  {
   "cell_type": "code",
   "execution_count": null,
   "id": "5bfa4051-6b68-43f9-8f18-9657045fe41a",
   "metadata": {},
   "outputs": [],
   "source": [
    "tatman_indices = np.argmax(predictions_tatman, axis=1)\n",
    "tatman[\"BT_Level\"] = np.sort(levels.unique())[tatman_indices]\n",
    "tatman.to_csv('data/tatman/tatman_bt.csv', sep=';')"
   ]
  },
  {
   "cell_type": "markdown",
   "id": "71acd1df-d41e-4acb-89cd-5530c8a93e76",
   "metadata": {},
   "source": [
    "## Question-Answer Jokes"
   ]
  },
  {
   "cell_type": "code",
   "execution_count": 46,
   "id": "d0cf25f0-7731-4b50-955f-9d09aacbbc89",
   "metadata": {},
   "outputs": [
    {
     "data": {
      "text/html": [
       "<div>\n",
       "<style scoped>\n",
       "    .dataframe tbody tr th:only-of-type {\n",
       "        vertical-align: middle;\n",
       "    }\n",
       "\n",
       "    .dataframe tbody tr th {\n",
       "        vertical-align: top;\n",
       "    }\n",
       "\n",
       "    .dataframe thead th {\n",
       "        text-align: right;\n",
       "    }\n",
       "</style>\n",
       "<table border=\"1\" class=\"dataframe\">\n",
       "  <thead>\n",
       "    <tr style=\"text-align: right;\">\n",
       "      <th></th>\n",
       "      <th>Question</th>\n",
       "      <th>Answer</th>\n",
       "    </tr>\n",
       "  </thead>\n",
       "  <tbody>\n",
       "    <tr>\n",
       "      <th>0</th>\n",
       "      <td>did you hear about the native american man tha...</td>\n",
       "      <td>he nearly drown in his own tea pee.</td>\n",
       "    </tr>\n",
       "    <tr>\n",
       "      <th>1</th>\n",
       "      <td>what 's the best anti diarrheal prescription ?</td>\n",
       "      <td>mycheexarphlexin</td>\n",
       "    </tr>\n",
       "    <tr>\n",
       "      <th>2</th>\n",
       "      <td>what do you call a person who is outside a doo...</td>\n",
       "      <td>matt</td>\n",
       "    </tr>\n",
       "    <tr>\n",
       "      <th>3</th>\n",
       "      <td>which star trek character is a member of the m...</td>\n",
       "      <td>jean-luc pickacard</td>\n",
       "    </tr>\n",
       "    <tr>\n",
       "      <th>4</th>\n",
       "      <td>what 's the difference between a bullet and a ...</td>\n",
       "      <td>a bullet doesn 't miss harambe</td>\n",
       "    </tr>\n",
       "    <tr>\n",
       "      <th>...</th>\n",
       "      <td>...</td>\n",
       "      <td>...</td>\n",
       "    </tr>\n",
       "    <tr>\n",
       "      <th>38261</th>\n",
       "      <td>why did the pacifist /b /tard try to calm ever...</td>\n",
       "      <td>he did it for the</td>\n",
       "    </tr>\n",
       "    <tr>\n",
       "      <th>38262</th>\n",
       "      <td>why can 't obama poke fun at himself ?</td>\n",
       "      <td>because that would be racist.</td>\n",
       "    </tr>\n",
       "    <tr>\n",
       "      <th>38263</th>\n",
       "      <td>why is gambling not allowed in africa ?</td>\n",
       "      <td>because there are too many cheetahs.</td>\n",
       "    </tr>\n",
       "    <tr>\n",
       "      <th>38264</th>\n",
       "      <td>what do you call three witches in a hot tub ?</td>\n",
       "      <td>a self-cleaning coven.</td>\n",
       "    </tr>\n",
       "    <tr>\n",
       "      <th>38265</th>\n",
       "      <td>what do scientists use to measure a chicken 's...</td>\n",
       "      <td>an egg timer</td>\n",
       "    </tr>\n",
       "  </tbody>\n",
       "</table>\n",
       "<p>38266 rows × 2 columns</p>\n",
       "</div>"
      ],
      "text/plain": [
       "                                                Question  \\\n",
       "0      did you hear about the native american man tha...   \n",
       "1         what 's the best anti diarrheal prescription ?   \n",
       "2      what do you call a person who is outside a doo...   \n",
       "3      which star trek character is a member of the m...   \n",
       "4      what 's the difference between a bullet and a ...   \n",
       "...                                                  ...   \n",
       "38261  why did the pacifist /b /tard try to calm ever...   \n",
       "38262             why can 't obama poke fun at himself ?   \n",
       "38263            why is gambling not allowed in africa ?   \n",
       "38264      what do you call three witches in a hot tub ?   \n",
       "38265  what do scientists use to measure a chicken 's...   \n",
       "\n",
       "                                     Answer  \n",
       "0       he nearly drown in his own tea pee.  \n",
       "1                          mycheexarphlexin  \n",
       "2                                      matt  \n",
       "3                        jean-luc pickacard  \n",
       "4            a bullet doesn 't miss harambe  \n",
       "...                                     ...  \n",
       "38261                     he did it for the  \n",
       "38262         because that would be racist.  \n",
       "38263  because there are too many cheetahs.  \n",
       "38264                a self-cleaning coven.  \n",
       "38265                          an egg timer  \n",
       "\n",
       "[38266 rows x 2 columns]"
      ]
     },
     "execution_count": 46,
     "metadata": {},
     "output_type": "execute_result"
    }
   ],
   "source": [
    "jokes = pd.read_csv('data/jokes/jokes_clean.csv', sep=';')\n",
    "jokes"
   ]
  },
  {
   "cell_type": "code",
   "execution_count": 47,
   "id": "27dcc4dd-d333-47a2-872e-7b6992474e75",
   "metadata": {},
   "outputs": [],
   "source": [
    "jokes_sub = jokes.loc[:4000]"
   ]
  },
  {
   "cell_type": "code",
   "execution_count": 48,
   "id": "1bed4984-5fea-459a-a2ac-27d6bad9dd11",
   "metadata": {},
   "outputs": [
    {
     "name": "stdout",
     "output_type": "stream",
     "text": [
      "\u001b[1m126/126\u001b[0m \u001b[32m━━━━━━━━━━━━━━━━━━━━\u001b[0m\u001b[37m\u001b[0m \u001b[1m1763s\u001b[0m 14s/step\n"
     ]
    },
    {
     "name": "stderr",
     "output_type": "stream",
     "text": [
      "/tmp/ipykernel_10946/2429347111.py:3: SettingWithCopyWarning: \n",
      "A value is trying to be set on a copy of a slice from a DataFrame.\n",
      "Try using .loc[row_indexer,col_indexer] = value instead\n",
      "\n",
      "See the caveats in the documentation: https://pandas.pydata.org/pandas-docs/stable/user_guide/indexing.html#returning-a-view-versus-a-copy\n",
      "  jokes_sub[\"BT_Level\"] = np.sort(levels.unique())[jokes_indices]\n"
     ]
    }
   ],
   "source": [
    "predictions_jokes = full_model.predict(jokes_sub.Question)\n",
    "jokes_indices = np.argmax(predictions_jokes, axis=1)\n",
    "jokes_sub[\"BT_Level\"] = np.sort(levels.unique())[jokes_indices]\n",
    "jokes_sub.to_csv('data/jokes/jokes4k.csv', sep=';')"
   ]
  },
  {
   "cell_type": "markdown",
   "id": "66feafe5-106c-442e-a339-3a7cb66bf39d",
   "metadata": {},
   "source": [
    "## Stanford Question Answering Dataset"
   ]
  },
  {
   "cell_type": "code",
   "execution_count": 50,
   "id": "f459d46f-8f06-4492-b462-dc624a477bc1",
   "metadata": {},
   "outputs": [
    {
     "data": {
      "text/html": [
       "<div>\n",
       "<style scoped>\n",
       "    .dataframe tbody tr th:only-of-type {\n",
       "        vertical-align: middle;\n",
       "    }\n",
       "\n",
       "    .dataframe tbody tr th {\n",
       "        vertical-align: top;\n",
       "    }\n",
       "\n",
       "    .dataframe thead th {\n",
       "        text-align: right;\n",
       "    }\n",
       "</style>\n",
       "<table border=\"1\" class=\"dataframe\">\n",
       "  <thead>\n",
       "    <tr style=\"text-align: right;\">\n",
       "      <th></th>\n",
       "      <th>Question</th>\n",
       "      <th>Answer</th>\n",
       "    </tr>\n",
       "  </thead>\n",
       "  <tbody>\n",
       "    <tr>\n",
       "      <th>0</th>\n",
       "      <td>to whom did the virgin mary allegedly appear i...</td>\n",
       "      <td>it is a replica of the grotto at lourdes , fra...</td>\n",
       "    </tr>\n",
       "    <tr>\n",
       "      <th>1</th>\n",
       "      <td>what is in front of the notre dame main buildi...</td>\n",
       "      <td>immediately in front of the main building and ...</td>\n",
       "    </tr>\n",
       "    <tr>\n",
       "      <th>2</th>\n",
       "      <td>the basilica of the sacred heart at notre dame...</td>\n",
       "      <td>next to the main building is the basilica of t...</td>\n",
       "    </tr>\n",
       "    <tr>\n",
       "      <th>3</th>\n",
       "      <td>what is the grotto at notre dame ?</td>\n",
       "      <td>immediately behind the basilica is the grotto ...</td>\n",
       "    </tr>\n",
       "    <tr>\n",
       "      <th>4</th>\n",
       "      <td>what sits on top of the main building at notre...</td>\n",
       "      <td>atop the main building 's gold dome is a golde...</td>\n",
       "    </tr>\n",
       "    <tr>\n",
       "      <th>...</th>\n",
       "      <td>...</td>\n",
       "      <td>...</td>\n",
       "    </tr>\n",
       "    <tr>\n",
       "      <th>104559</th>\n",
       "      <td>what paved the way for the augsburg confession ?</td>\n",
       "      <td>despite the disagreements on the eucharist , t...</td>\n",
       "    </tr>\n",
       "    <tr>\n",
       "      <th>104560</th>\n",
       "      <td>how many fraternities are apart of the univers...</td>\n",
       "      <td>there are fifteen fraternities and seven soror...</td>\n",
       "    </tr>\n",
       "    <tr>\n",
       "      <th>104561</th>\n",
       "      <td>in what year was the trial of rev. jimmy creech ?</td>\n",
       "      <td>rev. jimmy creech was defrocked after a highly...</td>\n",
       "    </tr>\n",
       "    <tr>\n",
       "      <th>104562</th>\n",
       "      <td>what town was actually granted to the huguenot...</td>\n",
       "      <td>when they arrived , colonial authorities offer...</td>\n",
       "    </tr>\n",
       "    <tr>\n",
       "      <th>104563</th>\n",
       "      <td>what is the upper house of the parliament of v...</td>\n",
       "      <td>at state level , the parliament of victoria co...</td>\n",
       "    </tr>\n",
       "  </tbody>\n",
       "</table>\n",
       "<p>104564 rows × 2 columns</p>\n",
       "</div>"
      ],
      "text/plain": [
       "                                                 Question  \\\n",
       "0       to whom did the virgin mary allegedly appear i...   \n",
       "1       what is in front of the notre dame main buildi...   \n",
       "2       the basilica of the sacred heart at notre dame...   \n",
       "3                      what is the grotto at notre dame ?   \n",
       "4       what sits on top of the main building at notre...   \n",
       "...                                                   ...   \n",
       "104559   what paved the way for the augsburg confession ?   \n",
       "104560  how many fraternities are apart of the univers...   \n",
       "104561  in what year was the trial of rev. jimmy creech ?   \n",
       "104562  what town was actually granted to the huguenot...   \n",
       "104563  what is the upper house of the parliament of v...   \n",
       "\n",
       "                                                   Answer  \n",
       "0       it is a replica of the grotto at lourdes , fra...  \n",
       "1       immediately in front of the main building and ...  \n",
       "2       next to the main building is the basilica of t...  \n",
       "3       immediately behind the basilica is the grotto ...  \n",
       "4       atop the main building 's gold dome is a golde...  \n",
       "...                                                   ...  \n",
       "104559  despite the disagreements on the eucharist , t...  \n",
       "104560  there are fifteen fraternities and seven soror...  \n",
       "104561  rev. jimmy creech was defrocked after a highly...  \n",
       "104562  when they arrived , colonial authorities offer...  \n",
       "104563  at state level , the parliament of victoria co...  \n",
       "\n",
       "[104564 rows x 2 columns]"
      ]
     },
     "execution_count": 50,
     "metadata": {},
     "output_type": "execute_result"
    }
   ],
   "source": [
    "squad = pd.read_csv('data/squad/squad.csv', sep=';')\n",
    "squad"
   ]
  },
  {
   "cell_type": "code",
   "execution_count": 51,
   "id": "a9de5d22-8773-4795-a2c0-829c7cf3ae4d",
   "metadata": {},
   "outputs": [],
   "source": [
    "squad_sub = squad.loc[:8000]"
   ]
  },
  {
   "cell_type": "code",
   "execution_count": 52,
   "id": "c305db28-d7aa-4949-a7f7-c1bd2b62dd9f",
   "metadata": {},
   "outputs": [
    {
     "name": "stdout",
     "output_type": "stream",
     "text": [
      "\u001b[1m251/251\u001b[0m \u001b[32m━━━━━━━━━━━━━━━━━━━━\u001b[0m\u001b[37m\u001b[0m \u001b[1m3445s\u001b[0m 14s/step\n"
     ]
    },
    {
     "name": "stderr",
     "output_type": "stream",
     "text": [
      "/tmp/ipykernel_10946/4188630904.py:3: SettingWithCopyWarning: \n",
      "A value is trying to be set on a copy of a slice from a DataFrame.\n",
      "Try using .loc[row_indexer,col_indexer] = value instead\n",
      "\n",
      "See the caveats in the documentation: https://pandas.pydata.org/pandas-docs/stable/user_guide/indexing.html#returning-a-view-versus-a-copy\n",
      "  squad_sub[\"BT_Level\"] = np.sort(levels.unique())[squad_indices]\n"
     ]
    }
   ],
   "source": [
    "predictions_squad = full_model.predict(squad_sub.Question)\n",
    "squad_indices = np.argmax(predictions_squad, axis=1)\n",
    "squad_sub[\"BT_Level\"] = np.sort(levels.unique())[squad_indices]\n",
    "squad_sub.to_csv('data/squad/squad8k.csv', sep=';')"
   ]
  }
 ],
 "metadata": {
  "kernelspec": {
   "display_name": "Python 3 (ipykernel)",
   "language": "python",
   "name": "python3"
  },
  "language_info": {
   "codemirror_mode": {
    "name": "ipython",
    "version": 3
   },
   "file_extension": ".py",
   "mimetype": "text/x-python",
   "name": "python",
   "nbconvert_exporter": "python",
   "pygments_lexer": "ipython3",
   "version": "3.12.3"
  }
 },
 "nbformat": 4,
 "nbformat_minor": 5
}
