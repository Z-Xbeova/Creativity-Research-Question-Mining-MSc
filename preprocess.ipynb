{
 "cells": [
  {
   "cell_type": "code",
   "execution_count": 1,
   "id": "9f7cb014",
   "metadata": {},
   "outputs": [],
   "source": [
    "import pandas as pd\n",
    "import numpy as np\n",
    "import re\n",
    "import string"
   ]
  },
  {
   "cell_type": "markdown",
   "id": "76ca36e8",
   "metadata": {},
   "source": [
    "# R. Tatman's Question-Answering Dataset"
   ]
  },
  {
   "cell_type": "code",
   "execution_count": 2,
   "id": "e8c91cec",
   "metadata": {},
   "outputs": [],
   "source": [
    "def sentence_cleanup(string):\n",
    "    string = re.sub('-LRB-', '(', string)\n",
    "    string = re.sub('-RRB-', ')', string)\n",
    "    string = re.sub('\\s$', '', string)\n",
    "    string = re.sub(' {2,}', ' ', string)\n",
    "    string = re.sub(r'(?<!\\s)([!\"#$%&\\'()*+,\\/:;<=>?@\\[\\\\\\]\\^_`{|}~])', r' \\1', string)\n",
    "    string = re.sub(r'(?<=\\d) ([:.])', r'\\1', string)\n",
    "    string = re.sub(r'(?<=\\b\\w) \\.', r'\\.', string)\n",
    "    string = re.sub(r'\\((?!\\s)', r'( ', string)\n",
    "    string = re.sub(r'(?<=\\d) ,(?=\\d)', r',', string)\n",
    "    string = re.sub('` `', '``', string)\n",
    "    string = re.sub(\"' '\", \"''\", string)\n",
    "    string = re.sub(' \"(?!\\s)', ' `` ', string)\n",
    "    string = re.sub('\"', \"''\", string)\n",
    "    string = re.sub(r' \\([^\\w]+\\)', r'', string)\n",
    "    string = string.lower()\n",
    "    return string\n",
    "\n",
    "def valid(string):\n",
    "    return string[-1]=='?'"
   ]
  },
  {
   "cell_type": "code",
   "execution_count": 3,
   "id": "fdfb8183",
   "metadata": {},
   "outputs": [],
   "source": [
    "def new_dataset(source, sep='\\t'):\n",
    "    ds = pd.read_csv(source, sep=sep, encoding='utf8')\n",
    "    ds = ds[(~ds.Question.isna()) & (~ds.Answer.isna())]\n",
    "    \n",
    "    questions = list(ds.Question)\n",
    "    new_questions = list(map(sentence_cleanup, questions))\n",
    "    ds.Question = new_questions\n",
    "    \n",
    "    answers = list(ds.Answer)\n",
    "    new_answers = list(map(sentence_cleanup, answers))\n",
    "    ds.Answer = new_answers\n",
    "    \n",
    "    ds = ds[valid(ds.Question.str)]\n",
    "    return ds"
   ]
  },
  {
   "cell_type": "code",
   "execution_count": 4,
   "id": "70a0a5e5",
   "metadata": {},
   "outputs": [],
   "source": [
    "s8 = new_dataset('data/tatman/s08.txt')\n",
    "s9 = new_dataset('data/tatman/s09.txt')\n",
    "s10 = new_dataset('data/tatman/s10.txt')"
   ]
  },
  {
   "cell_type": "code",
   "execution_count": 5,
   "id": "b33ff5b0",
   "metadata": {},
   "outputs": [],
   "source": [
    "ds = pd.concat([s8, s9, s10])\n",
    "ds.to_csv('data/tatman/merged.tsv', sep='\\t', index=None)"
   ]
  },
  {
   "cell_type": "code",
   "execution_count": 6,
   "id": "af32c75c",
   "metadata": {},
   "outputs": [],
   "source": [
    "replace = {'too easy': 0, 'easy': 1, 'medium': 2, 'hard': 3, 'too hard': 4}"
   ]
  },
  {
   "cell_type": "code",
   "execution_count": 7,
   "id": "696fae5c",
   "metadata": {},
   "outputs": [
    {
     "data": {
      "text/html": [
       "<div>\n",
       "<style scoped>\n",
       "    .dataframe tbody tr th:only-of-type {\n",
       "        vertical-align: middle;\n",
       "    }\n",
       "\n",
       "    .dataframe tbody tr th {\n",
       "        vertical-align: top;\n",
       "    }\n",
       "\n",
       "    .dataframe thead th {\n",
       "        text-align: right;\n",
       "    }\n",
       "</style>\n",
       "<table border=\"1\" class=\"dataframe\">\n",
       "  <thead>\n",
       "    <tr style=\"text-align: right;\">\n",
       "      <th></th>\n",
       "      <th>ArticleTitle</th>\n",
       "      <th>Question</th>\n",
       "      <th>Answer</th>\n",
       "      <th>DifficultyFromQuestioner</th>\n",
       "      <th>DifficultyFromAnswerer</th>\n",
       "      <th>ArticleFile</th>\n",
       "    </tr>\n",
       "  </thead>\n",
       "  <tbody>\n",
       "    <tr>\n",
       "      <th>0</th>\n",
       "      <td>Abraham_Lincoln</td>\n",
       "      <td>was abraham lincoln the sixteenth president of...</td>\n",
       "      <td>yes</td>\n",
       "      <td>easy</td>\n",
       "      <td>easy</td>\n",
       "      <td>S08_set3_a4</td>\n",
       "    </tr>\n",
       "    <tr>\n",
       "      <th>1</th>\n",
       "      <td>Abraham_Lincoln</td>\n",
       "      <td>was abraham lincoln the sixteenth president of...</td>\n",
       "      <td>yes.</td>\n",
       "      <td>easy</td>\n",
       "      <td>easy</td>\n",
       "      <td>S08_set3_a4</td>\n",
       "    </tr>\n",
       "    <tr>\n",
       "      <th>2</th>\n",
       "      <td>Abraham_Lincoln</td>\n",
       "      <td>did lincoln sign the national banking act of 1...</td>\n",
       "      <td>yes</td>\n",
       "      <td>easy</td>\n",
       "      <td>medium</td>\n",
       "      <td>S08_set3_a4</td>\n",
       "    </tr>\n",
       "    <tr>\n",
       "      <th>3</th>\n",
       "      <td>Abraham_Lincoln</td>\n",
       "      <td>did lincoln sign the national banking act of 1...</td>\n",
       "      <td>yes.</td>\n",
       "      <td>easy</td>\n",
       "      <td>easy</td>\n",
       "      <td>S08_set3_a4</td>\n",
       "    </tr>\n",
       "    <tr>\n",
       "      <th>4</th>\n",
       "      <td>Abraham_Lincoln</td>\n",
       "      <td>did his mother die of pneumonia ?</td>\n",
       "      <td>no</td>\n",
       "      <td>easy</td>\n",
       "      <td>medium</td>\n",
       "      <td>S08_set3_a4</td>\n",
       "    </tr>\n",
       "    <tr>\n",
       "      <th>...</th>\n",
       "      <td>...</td>\n",
       "      <td>...</td>\n",
       "      <td>...</td>\n",
       "      <td>...</td>\n",
       "      <td>...</td>\n",
       "      <td>...</td>\n",
       "    </tr>\n",
       "    <tr>\n",
       "      <th>1452</th>\n",
       "      <td>Zebra</td>\n",
       "      <td>what areas do the grevy 's zebras inhabit ?</td>\n",
       "      <td>semi-arid grasslands of ethiopia and northern ...</td>\n",
       "      <td>hard</td>\n",
       "      <td>hard</td>\n",
       "      <td>S10_set1_a9</td>\n",
       "    </tr>\n",
       "    <tr>\n",
       "      <th>1454</th>\n",
       "      <td>Zebra</td>\n",
       "      <td>which species of zebra is known as the common ...</td>\n",
       "      <td>plains zebra ( equus quagga , formerly equus b...</td>\n",
       "      <td>hard</td>\n",
       "      <td>medium</td>\n",
       "      <td>S10_set1_a9</td>\n",
       "    </tr>\n",
       "    <tr>\n",
       "      <th>1455</th>\n",
       "      <td>Zebra</td>\n",
       "      <td>which species of zebra is known as the common ...</td>\n",
       "      <td>plains zebra</td>\n",
       "      <td>hard</td>\n",
       "      <td>medium</td>\n",
       "      <td>S10_set1_a9</td>\n",
       "    </tr>\n",
       "    <tr>\n",
       "      <th>1456</th>\n",
       "      <td>Zebra</td>\n",
       "      <td>at what age can a zebra breed ?</td>\n",
       "      <td>five or six</td>\n",
       "      <td>hard</td>\n",
       "      <td>medium</td>\n",
       "      <td>S10_set1_a9</td>\n",
       "    </tr>\n",
       "    <tr>\n",
       "      <th>1457</th>\n",
       "      <td>Zebra</td>\n",
       "      <td>at what age can a zebra breed ?</td>\n",
       "      <td>5 or 6</td>\n",
       "      <td>hard</td>\n",
       "      <td>hard</td>\n",
       "      <td>S10_set1_a9</td>\n",
       "    </tr>\n",
       "  </tbody>\n",
       "</table>\n",
       "<p>3358 rows × 6 columns</p>\n",
       "</div>"
      ],
      "text/plain": [
       "         ArticleTitle                                           Question  \\\n",
       "0     Abraham_Lincoln  was abraham lincoln the sixteenth president of...   \n",
       "1     Abraham_Lincoln  was abraham lincoln the sixteenth president of...   \n",
       "2     Abraham_Lincoln  did lincoln sign the national banking act of 1...   \n",
       "3     Abraham_Lincoln  did lincoln sign the national banking act of 1...   \n",
       "4     Abraham_Lincoln                  did his mother die of pneumonia ?   \n",
       "...               ...                                                ...   \n",
       "1452            Zebra        what areas do the grevy 's zebras inhabit ?   \n",
       "1454            Zebra  which species of zebra is known as the common ...   \n",
       "1455            Zebra  which species of zebra is known as the common ...   \n",
       "1456            Zebra                    at what age can a zebra breed ?   \n",
       "1457            Zebra                    at what age can a zebra breed ?   \n",
       "\n",
       "                                                 Answer  \\\n",
       "0                                                   yes   \n",
       "1                                                  yes.   \n",
       "2                                                   yes   \n",
       "3                                                  yes.   \n",
       "4                                                    no   \n",
       "...                                                 ...   \n",
       "1452  semi-arid grasslands of ethiopia and northern ...   \n",
       "1454  plains zebra ( equus quagga , formerly equus b...   \n",
       "1455                                       plains zebra   \n",
       "1456                                        five or six   \n",
       "1457                                             5 or 6   \n",
       "\n",
       "     DifficultyFromQuestioner DifficultyFromAnswerer  ArticleFile  \n",
       "0                        easy                   easy  S08_set3_a4  \n",
       "1                        easy                   easy  S08_set3_a4  \n",
       "2                        easy                 medium  S08_set3_a4  \n",
       "3                        easy                   easy  S08_set3_a4  \n",
       "4                        easy                 medium  S08_set3_a4  \n",
       "...                       ...                    ...          ...  \n",
       "1452                     hard                   hard  S10_set1_a9  \n",
       "1454                     hard                 medium  S10_set1_a9  \n",
       "1455                     hard                 medium  S10_set1_a9  \n",
       "1456                     hard                 medium  S10_set1_a9  \n",
       "1457                     hard                   hard  S10_set1_a9  \n",
       "\n",
       "[3358 rows x 6 columns]"
      ]
     },
     "execution_count": 7,
     "metadata": {},
     "output_type": "execute_result"
    }
   ],
   "source": [
    "ds"
   ]
  },
  {
   "cell_type": "code",
   "execution_count": 8,
   "id": "08b735cc",
   "metadata": {},
   "outputs": [
    {
     "data": {
      "text/plain": [
       "<Axes: >"
      ]
     },
     "execution_count": 8,
     "metadata": {},
     "output_type": "execute_result"
    },
    {
     "data": {
      "image/png": "[encoded data removed]",
      "text/plain": [
       "<Figure size 432x288 with 1 Axes>"
      ]
     },
     "metadata": {
      "needs_background": "light"
     },
     "output_type": "display_data"
    }
   ],
   "source": [
    "ds.DifficultyFromQuestioner.replace(replace).hist(range=(0.5, 3.5), bins=9)"
   ]
  },
  {
   "cell_type": "code",
   "execution_count": 9,
   "id": "91637eab",
   "metadata": {},
   "outputs": [
    {
     "data": {
      "text/plain": [
       "<Axes: >"
      ]
     },
     "execution_count": 9,
     "metadata": {},
     "output_type": "execute_result"
    },
    {
     "data": {
      "image/png": "[encoded data removed]",
      "text/plain": [
       "<Figure size 432x288 with 1 Axes>"
      ]
     },
     "metadata": {
      "needs_background": "light"
     },
     "output_type": "display_data"
    }
   ],
   "source": [
    "ds.DifficultyFromAnswerer.replace(replace).hist(range=(-0.5, 4.5), bins=15)"
   ]
  },
  {
   "cell_type": "markdown",
   "id": "47e31638",
   "metadata": {},
   "source": [
    "# Exam Question Dataset"
   ]
  },
  {
   "cell_type": "code",
   "execution_count": 18,
   "id": "6e1c4f5b",
   "metadata": {},
   "outputs": [],
   "source": [
    "bloom = pd.read_csv('data/bloom/combined_dataset.txt', header=None)"
   ]
  },
  {
   "cell_type": "code",
   "execution_count": 19,
   "id": "ef5db1fe",
   "metadata": {},
   "outputs": [],
   "source": [
    "bloom_transform = list(map(sentence_cleanup, list(bloom[0])))"
   ]
  },
  {
   "cell_type": "code",
   "execution_count": 20,
   "id": "dbc8dfd9",
   "metadata": {},
   "outputs": [
    {
     "data": {
      "text/html": [
       "<div>\n",
       "<style scoped>\n",
       "    .dataframe tbody tr th:only-of-type {\n",
       "        vertical-align: middle;\n",
       "    }\n",
       "\n",
       "    .dataframe tbody tr th {\n",
       "        vertical-align: top;\n",
       "    }\n",
       "\n",
       "    .dataframe thead th {\n",
       "        text-align: right;\n",
       "    }\n",
       "</style>\n",
       "<table border=\"1\" class=\"dataframe\">\n",
       "  <thead>\n",
       "    <tr style=\"text-align: right;\">\n",
       "      <th></th>\n",
       "      <th>0</th>\n",
       "    </tr>\n",
       "  </thead>\n",
       "  <tbody>\n",
       "    <tr>\n",
       "      <th>0</th>\n",
       "      <td>Comprehension</td>\n",
       "    </tr>\n",
       "    <tr>\n",
       "      <th>1</th>\n",
       "      <td>Comprehension</td>\n",
       "    </tr>\n",
       "    <tr>\n",
       "      <th>2</th>\n",
       "      <td>Comprehension</td>\n",
       "    </tr>\n",
       "    <tr>\n",
       "      <th>3</th>\n",
       "      <td>Comprehension</td>\n",
       "    </tr>\n",
       "    <tr>\n",
       "      <th>4</th>\n",
       "      <td>Comprehension</td>\n",
       "    </tr>\n",
       "    <tr>\n",
       "      <th>...</th>\n",
       "      <td>...</td>\n",
       "    </tr>\n",
       "    <tr>\n",
       "      <th>2517</th>\n",
       "      <td>Application</td>\n",
       "    </tr>\n",
       "    <tr>\n",
       "      <th>2518</th>\n",
       "      <td>Knowledge</td>\n",
       "    </tr>\n",
       "    <tr>\n",
       "      <th>2519</th>\n",
       "      <td>Analysis</td>\n",
       "    </tr>\n",
       "    <tr>\n",
       "      <th>2520</th>\n",
       "      <td>Evaluation</td>\n",
       "    </tr>\n",
       "    <tr>\n",
       "      <th>2521</th>\n",
       "      <td>Knowledge</td>\n",
       "    </tr>\n",
       "  </tbody>\n",
       "</table>\n",
       "<p>2522 rows × 1 columns</p>\n",
       "</div>"
      ],
      "text/plain": [
       "                  0\n",
       "0     Comprehension\n",
       "1     Comprehension\n",
       "2     Comprehension\n",
       "3     Comprehension\n",
       "4     Comprehension\n",
       "...             ...\n",
       "2517    Application\n",
       "2518      Knowledge\n",
       "2519       Analysis\n",
       "2520     Evaluation\n",
       "2521      Knowledge\n",
       "\n",
       "[2522 rows x 1 columns]"
      ]
     },
     "execution_count": 20,
     "metadata": {},
     "output_type": "execute_result"
    }
   ],
   "source": [
    "bloom2 = pd.read_csv('data/bloom/combined_dataset_questions.txt', header=None)"
   ]
  },
  {
   "cell_type": "code",
   "execution_count": 24,
   "id": "584c392e",
   "metadata": {},
   "outputs": [],
   "source": [
    "zipped = pd.DataFrame(list(zip(bloom_transform, bloom2[0])), columns=['question', 'level'])"
   ]
  },
  {
   "cell_type": "code",
   "execution_count": 26,
   "id": "9fc0292b",
   "metadata": {},
   "outputs": [],
   "source": [
    "zipped.to_csv('data/bloom/transformed.csv', sep=';', index=None)"
   ]
  },
  {
   "cell_type": "markdown",
   "id": "50cd133c",
   "metadata": {},
   "source": [
    "# Stanford Question Answering Dataset"
   ]
  },
  {
   "cell_type": "code",
   "execution_count": 37,
   "id": "0872dbb4",
   "metadata": {},
   "outputs": [],
   "source": [
    "def bracket_cleanup(string):\n",
    "    string = re.sub('-lrb-', '(', string)\n",
    "    string = re.sub('-rrb-', ')', string)\n",
    "    return string"
   ]
  },
  {
   "cell_type": "code",
   "execution_count": 38,
   "id": "fd16c590",
   "metadata": {},
   "outputs": [],
   "source": [
    "with open('data/squad/train/train.txt.target.txt', 'r', encoding='utf-8') as file:\n",
    "    target_1 = file.read().splitlines()\n",
    "with open('data/squad/dev/dev.txt.shuffle.dev.target.txt', 'r', encoding='utf-8') as file:\n",
    "    target_2 = file.read().splitlines()\n",
    "with open('data/squad/test/dev.txt.shuffle.test.target.txt', 'r', encoding='utf-8') as file:\n",
    "    target_3 = file.read().splitlines()\n",
    "target = target_1+target_2+target_3\n",
    "target = list(map(bracket_cleanup, target))"
   ]
  },
  {
   "cell_type": "code",
   "execution_count": 39,
   "id": "a4981b4e",
   "metadata": {},
   "outputs": [],
   "source": [
    "with open('data/squad/train/train.txt.source.txt', 'r', encoding='utf-8') as file:\n",
    "    source_1 = file.read().splitlines()\n",
    "with open('data/squad/dev/dev.txt.shuffle.dev.source.txt', 'r', encoding='utf-8') as file:\n",
    "    source_2 = file.read().splitlines()\n",
    "with open('data/squad/test/dev.txt.shuffle.test.source.txt', 'r', encoding='utf-8') as file:\n",
    "    source_3 = file.read().splitlines()\n",
    "source = source_1+source_2+source_3\n",
    "source = list(map(bracket_cleanup, source))"
   ]
  },
  {
   "cell_type": "code",
   "execution_count": 40,
   "id": "2fecb5fd",
   "metadata": {},
   "outputs": [
    {
     "data": {
      "text/html": [
       "<div>\n",
       "<style scoped>\n",
       "    .dataframe tbody tr th:only-of-type {\n",
       "        vertical-align: middle;\n",
       "    }\n",
       "\n",
       "    .dataframe tbody tr th {\n",
       "        vertical-align: top;\n",
       "    }\n",
       "\n",
       "    .dataframe thead th {\n",
       "        text-align: right;\n",
       "    }\n",
       "</style>\n",
       "<table border=\"1\" class=\"dataframe\">\n",
       "  <thead>\n",
       "    <tr style=\"text-align: right;\">\n",
       "      <th></th>\n",
       "      <th>question</th>\n",
       "      <th>answer</th>\n",
       "    </tr>\n",
       "  </thead>\n",
       "  <tbody>\n",
       "    <tr>\n",
       "      <th>0</th>\n",
       "      <td>to whom did the virgin mary allegedly appear i...</td>\n",
       "      <td>it is a replica of the grotto at lourdes , fra...</td>\n",
       "    </tr>\n",
       "    <tr>\n",
       "      <th>1</th>\n",
       "      <td>what is in front of the notre dame main buildi...</td>\n",
       "      <td>immediately in front of the main building and ...</td>\n",
       "    </tr>\n",
       "    <tr>\n",
       "      <th>2</th>\n",
       "      <td>the basilica of the sacred heart at notre dame...</td>\n",
       "      <td>next to the main building is the basilica of t...</td>\n",
       "    </tr>\n",
       "    <tr>\n",
       "      <th>3</th>\n",
       "      <td>what is the grotto at notre dame ?</td>\n",
       "      <td>immediately behind the basilica is the grotto ...</td>\n",
       "    </tr>\n",
       "    <tr>\n",
       "      <th>4</th>\n",
       "      <td>what sits on top of the main building at notre...</td>\n",
       "      <td>atop the main building 's gold dome is a golde...</td>\n",
       "    </tr>\n",
       "    <tr>\n",
       "      <th>...</th>\n",
       "      <td>...</td>\n",
       "      <td>...</td>\n",
       "    </tr>\n",
       "    <tr>\n",
       "      <th>104559</th>\n",
       "      <td>what paved the way for the augsburg confession ?</td>\n",
       "      <td>despite the disagreements on the eucharist , t...</td>\n",
       "    </tr>\n",
       "    <tr>\n",
       "      <th>104560</th>\n",
       "      <td>how many fraternities are apart of the univers...</td>\n",
       "      <td>there are fifteen fraternities and seven soror...</td>\n",
       "    </tr>\n",
       "    <tr>\n",
       "      <th>104561</th>\n",
       "      <td>in what year was the trial of rev. jimmy creech ?</td>\n",
       "      <td>rev. jimmy creech was defrocked after a highly...</td>\n",
       "    </tr>\n",
       "    <tr>\n",
       "      <th>104562</th>\n",
       "      <td>what town was actually granted to the huguenot...</td>\n",
       "      <td>when they arrived , colonial authorities offer...</td>\n",
       "    </tr>\n",
       "    <tr>\n",
       "      <th>104563</th>\n",
       "      <td>what is the upper house of the parliament of v...</td>\n",
       "      <td>at state level , the parliament of victoria co...</td>\n",
       "    </tr>\n",
       "  </tbody>\n",
       "</table>\n",
       "<p>104564 rows × 2 columns</p>\n",
       "</div>"
      ],
      "text/plain": [
       "                                                 question  \\\n",
       "0       to whom did the virgin mary allegedly appear i...   \n",
       "1       what is in front of the notre dame main buildi...   \n",
       "2       the basilica of the sacred heart at notre dame...   \n",
       "3                      what is the grotto at notre dame ?   \n",
       "4       what sits on top of the main building at notre...   \n",
       "...                                                   ...   \n",
       "104559   what paved the way for the augsburg confession ?   \n",
       "104560  how many fraternities are apart of the univers...   \n",
       "104561  in what year was the trial of rev. jimmy creech ?   \n",
       "104562  what town was actually granted to the huguenot...   \n",
       "104563  what is the upper house of the parliament of v...   \n",
       "\n",
       "                                                   answer  \n",
       "0       it is a replica of the grotto at lourdes , fra...  \n",
       "1       immediately in front of the main building and ...  \n",
       "2       next to the main building is the basilica of t...  \n",
       "3       immediately behind the basilica is the grotto ...  \n",
       "4       atop the main building 's gold dome is a golde...  \n",
       "...                                                   ...  \n",
       "104559  despite the disagreements on the eucharist , t...  \n",
       "104560  there are fifteen fraternities and seven soror...  \n",
       "104561  rev. jimmy creech was defrocked after a highly...  \n",
       "104562  when they arrived , colonial authorities offer...  \n",
       "104563  at state level , the parliament of victoria co...  \n",
       "\n",
       "[104564 rows x 2 columns]"
      ]
     },
     "execution_count": 40,
     "metadata": {},
     "output_type": "execute_result"
    }
   ],
   "source": [
    "squad = pd.DataFrame(list(zip(target, source)), columns=['question', 'answer'])\n",
    "squad"
   ]
  },
  {
   "cell_type": "code",
   "execution_count": 41,
   "id": "34ba7a2a",
   "metadata": {},
   "outputs": [],
   "source": [
    "squad.to_csv('data/squad/squad.csv', sep=';', index=None)"
   ]
  },
  {
   "cell_type": "markdown",
   "id": "03078e3b",
   "metadata": {},
   "source": [
    "# Question-Answer Jokes"
   ]
  },
  {
   "cell_type": "code",
   "execution_count": 46,
   "id": "d675fa4e",
   "metadata": {},
   "outputs": [],
   "source": [
    "jokes = new_dataset('data/jokes/jokes.csv', sep=',')"
   ]
  },
  {
   "cell_type": "code",
   "execution_count": 53,
   "id": "a60e0dc9",
   "metadata": {},
   "outputs": [],
   "source": [
    "jq = list(jokes.Question)\n",
    "ja = list(jokes.Answer)"
   ]
  },
  {
   "cell_type": "code",
   "execution_count": 50,
   "id": "4cca662d",
   "metadata": {},
   "outputs": [],
   "source": [
    "def trim_q(sentence):\n",
    "    if sentence[:4] == 'q : ':\n",
    "        return sentence[4:]\n",
    "    return sentence"
   ]
  },
  {
   "cell_type": "code",
   "execution_count": 51,
   "id": "e4333b80",
   "metadata": {},
   "outputs": [],
   "source": [
    "def trim_a(sentence):\n",
    "    if sentence[:4] == 'a : ':\n",
    "        return sentence[4:]\n",
    "    return sentence"
   ]
  },
  {
   "cell_type": "code",
   "execution_count": 58,
   "id": "d50c3439",
   "metadata": {},
   "outputs": [],
   "source": [
    "jokes.Question = list(map(trim_q, jq))\n",
    "jokes.Answer = list(map(trim_a, ja))"
   ]
  },
  {
   "cell_type": "code",
   "execution_count": 59,
   "id": "cf7b198e",
   "metadata": {},
   "outputs": [],
   "source": [
    "jokes[['Question', 'Answer']].to_csv('data/jokes/jokes_clean.csv', sep=';', index=None)"
   ]
  }
 ],
 "metadata": {
  "kernelspec": {
   "display_name": "Python 3 (ipykernel)",
   "language": "python",
   "name": "python3"
  },
  "language_info": {
   "codemirror_mode": {
    "name": "ipython",
    "version": 3
   },
   "file_extension": ".py",
   "mimetype": "text/x-python",
   "name": "python",
   "nbconvert_exporter": "python",
   "pygments_lexer": "ipython3",
   "version": "3.12.3"
  }
 },
 "nbformat": 4,
 "nbformat_minor": 5
}
